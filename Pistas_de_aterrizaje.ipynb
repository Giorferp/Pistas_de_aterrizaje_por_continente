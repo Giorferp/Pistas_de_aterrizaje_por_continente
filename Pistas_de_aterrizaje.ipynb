{
 "cells": [
  {
   "cell_type": "code",
   "execution_count": null,
   "metadata": {},
   "outputs": [],
   "source": [
    "# Importar paquetes\n",
    "\n",
    "import seaborn as sns\n",
    "import pandas as pd\n",
    "import matplotlib.pyplot as plt\n",
    "from sqlalchemy import create_engine\n",
    "import plotly.express as px\n",
    "engine = create_engine('sqlite:///C:\\\\Users\\\\Giovanni\\\\OneDrive\\\\Documents\\\\GitHub\\\\Pistas_de_aterrizaje_por_continente\\\\OurAirports_DataSource.sqlite')\n",
    "\n",
    "query = \"SELECT * FROM SA_Airports;\"\n",
    "sa_airports = pd.read_sql_query(query, engine)\n",
    "sa_airports.to_csv('SA_Airports.csv', index=False)\n",
    "#Transfotmacion de variables\n",
    "sa_airports['code'] = pd.Categorical(sa_airports['code'])\n",
    "sa_airports['ident'] = pd.Categorical(sa_airports['ident'])\n",
    "sa_airports['name'] = pd.Categorical(sa_airports['name'])\n",
    "sa_airports['type'] = pd.Categorical(sa_airports['type'])\n",
    "sa_airports['surface'] = pd.Categorical(sa_airports['surface'])"
   ]
  },
  {
   "cell_type": "code",
   "execution_count": null,
   "metadata": {},
   "outputs": [],
   "source": [
    "#Grafico de barras para superficies\n",
    "plt.figure(figsize=(10, 6))\n",
    "superficies = sa_airports['surface'].value_counts()\n",
    "plt.bar(superficies.index, superficies.values, color='green')\n",
    "plt.xlabel('Superficie', fontsize=12)\n",
    "plt.ylabel('Cantidad de aeropuertos', fontsize=12)\n",
    "plt.title('Aeropuertos por tipo de superficie')\n",
    "plt.show()"
   ]
  },
  {
   "cell_type": "code",
   "execution_count": null,
   "metadata": {},
   "outputs": [],
   "source": [
    "#Grafico de caja para longitud\n",
    "plt.figure(figsize=(10, 6))\n",
    "plt.boxplot(sa_airports['length_ft'], patch_artist=True, \n",
    "            boxprops=dict(facecolor='lightblue', color='black'))\n",
    "plt.ylabel('Longitud (pies)', fontsize=12)\n",
    "plt.title('Distribución de la longitud de las pistas', fontsize=14)\n",
    "plt.show()"
   ]
  },
  {
   "cell_type": "code",
   "execution_count": null,
   "metadata": {},
   "outputs": [],
   "source": [
    "#Grafico de caja para ancho\n",
    "plt.figure(figsize=(10, 6))\n",
    "plt.boxplot(sa_airports['width_ft'], patch_artist=True, \n",
    "            boxprops=dict(facecolor='gray', color='black'))\n",
    "plt.ylabel('Longitud (pies)', fontsize=12)\n",
    "plt.title('Distribución del ancho de las pistas', fontsize=14)\n",
    "plt.show()"
   ]
  },
  {
   "cell_type": "code",
   "execution_count": null,
   "metadata": {},
   "outputs": [],
   "source": [
    "#Grafico de caja para elevacion\n",
    "plt.figure(figsize=(10, 6))\n",
    "plt.boxplot(sa_airports['le_elevation_ft'], patch_artist=True, \n",
    "            boxprops=dict(facecolor='purple', color='black'))\n",
    "plt.ylabel('Longitud (pies)', fontsize=12)\n",
    "plt.title('Distribución de la elevacion de las pistas', fontsize=14)\n",
    "plt.show()\n"
   ]
  },
  {
   "cell_type": "code",
   "execution_count": null,
   "metadata": {},
   "outputs": [],
   "source": [
    "#Estadisticas descriptivas de Latinoamerica\n",
    "sa_airports.describe().round(2)"
   ]
  },
  {
   "cell_type": "code",
   "execution_count": null,
   "metadata": {},
   "outputs": [],
   "source": [
    "#Estadisticas descriptivas por pais de latinoamerica\n",
    "sa_airports.groupby('code').describe().round(1).transpose()"
   ]
  }
 ],
 "metadata": {
  "kernelspec": {
   "display_name": "Python 3",
   "language": "python",
   "name": "python3"
  },
  "language_info": {
   "codemirror_mode": {
    "name": "ipython",
    "version": 3
   },
   "file_extension": ".py",
   "mimetype": "text/x-python",
   "name": "python",
   "nbconvert_exporter": "python",
   "pygments_lexer": "ipython3",
   "version": "3.13.2"
  }
 },
 "nbformat": 4,
 "nbformat_minor": 2
}
