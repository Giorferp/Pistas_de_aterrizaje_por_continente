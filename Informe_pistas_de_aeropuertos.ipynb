{
 "cells": [
  {
   "cell_type": "code",
   "execution_count": 3,
   "id": "f1cd126d-eb84-47f3-8be3-b2ac30d93735",
   "metadata": {},
   "outputs": [],
   "source": [
    "# Importar paquetes\n",
    "\n",
    "import seaborn as sns\n",
    "import pandas as pd\n",
    "import matplotlib.pyplot as plt\n",
    "from sqlalchemy import create_engine\n",
    "import plotly.express as px\n",
    "engine = create_engine('sqlite:///C:\\\\Users\\\\Giovanni\\\\OneDrive\\\\Documents\\\\GitHub\\\\Pistas_de_aterrizaje_por_continente\\\\OurAirports_DataSource.sqlite')\n",
    "\n",
    "query = \"SELECT * FROM SA_Airports;\"\n",
    "sa_airports = pd.read_sql_query(query, engine)\n",
    "sa_airports.to_csv('SA_Airports.csv', index=False)\n",
    "#Transfotmacion de variables\n",
    "sa_airports['code'] = pd.Categorical(sa_airports['code'])\n",
    "sa_airports['ident'] = pd.Categorical(sa_airports['ident'])\n",
    "sa_airports['name'] = pd.Categorical(sa_airports['name'])\n",
    "sa_airports['type'] = pd.Categorical(sa_airports['type'])\n",
    "sa_airports['surface'] = pd.Categorical(sa_airports['surface'])"
   ]
  },
  {
   "cell_type": "markdown",
   "id": "56b83ece-2aee-457e-b49c-a645178a7eff",
   "metadata": {
    "panel-layout": {
     "height": 347.266,
     "visible": true,
     "width": 100
    }
   },
   "source": [
    "# Análisis sobre pistas de Aterrizaje en Latinoamérica\n",
    "Por: Giovanni Fermin, Geremi Cardenas, Alejandro Zerpa, David Bermudez y Diego Quiroz\n",
    "\n",
    "# Metodología\n",
    "Este informe se realiza con la data de \"OurAirports_DataSource\" extraída de Kaggle con la finalidad de analizar las pistas de aterrizaje contenidas en dicha base de datos, específicamente las pistas de aterrizaje de Sur América. Para ello se realizó una inspección previa de la base de datos en SQLite como Sistema Gestor de Bases de Datos. Luego de la inspección se realizó la creación de una nueva entidad llamada \"SA_Airports\", en dicha tabla se ven reflejadas las caracteríisticas que serían de utilidad para lograr los objetivos de la investigación, SA_Airports contiene: code, ident, name, lenght_ft, width_ft, surface y le_elevation_ft; lo cual indica el código del país, la identificación de los aeropuertos, el nombre, el tamaño, la longitud media en pies, el ancho medido en pies, el tipo de superficie y la elevación medida en pies, respectivamente.\n",
    "Posterior a la creación de SA_Airports, se realiza una tranformación de la entidad a un archivo CSV para un mejor manejo de los datos a la hora de realizar las estadísticas descriptivas y los gráficos correspondientes en entornos como VisualCode, Anaconda, Rstudio y otros.\n",
    "Para lograr la creación de las tablas y gráficos se utilizaron herramientas como: seaborn, pandas, matplotlib, sqlalchemy, plotly express y más.\n",
    "\n",
    "# Introducción \n",
    "SA_Airports es una entidad destinada al análisis de pistas de aterrizaje de América del Sur. Sobre dicha entidad se han realizado diferentes gráficos y tablas para describir estas pistas y conocer las posibilidades de aterrizaje de los diferentes tipos de aviones en Sur América en general y en sus diversos países. Este análisis se fundamente en variables como la longitud, ancho y elevación de las pistas de aterrizaje, estas variables son medidas en pies; también está la variable de superficie, la cual es de suma importancia a la hora de determinar el tipo de aeronaves que podrían hacer uso de la pista. "
   ]
  },
  {
   "cell_type": "markdown",
   "id": "b52903de-762c-46bf-a1df-0aca5e0bd567",
   "metadata": {
    "panel-layout": {
     "height": 60.5938,
     "visible": true,
     "width": 100
    }
   },
   "source": [
    "# Análisis de las superficies en pistas de aterrizaje"
   ]
  },
  {
   "cell_type": "code",
   "execution_count": null,
   "id": "eb6119ff-dd34-4f11-b820-739db173be6b",
   "metadata": {
    "panel-layout": {
     "height": 874,
     "visible": true,
     "width": 100
    }
   },
   "outputs": [],
   "source": [
    "#Grafico de barras para superficies\n",
    "sa_airports['surface'] = pd.Categorical(sa_airports['surface'])\n",
    "plt.figure(figsize=(10, 6))\n",
    "superficies = sa_airports['surface'].value_counts()\n",
    "plt.bar(superficies.index, superficies.values, color='green')\n",
    "plt.yticks(range(0, max(superficies.values) + 20, 20))\n",
    "plt.xlabel('Superficie', fontsize=12)\n",
    "plt.ylabel('Cantidad de aeropuertos', fontsize=12)\n",
    "plt.title('Aeropuertos por tipo de superficie')\n",
    "plt.show()"
   ]
  },
  {
   "cell_type": "markdown",
   "id": "e0b64978-e84e-46b5-ada9-f76b96069dc3",
   "metadata": {
    "panel-layout": {
     "height": 205.406,
     "visible": true,
     "width": 100
    }
   },
   "source": [
    "El anterior gráfico de barras indica los tipos de superficies que se pueden observar en Sur América, estas superficies son: ASPH, CON, GRS, GRE, EARTH, GVL y PEM; los cuales son abreviaciones (en su mayoría) de Asfalto, Concreto, Hierva, Tierra, Grava y Pavimento poroso respectivamente.\n",
    "Lo que se observa en este gráfico es que la mayoría de los areopuertos en Sur América están hechos de Asfalto, seguido de Concreto que a su vez está seguido por Hierva.\n",
    "El hecho de que la mayoría de aeropuertos estén hechos de asfalto es un buen indicador, ya que esta característica (explorada de forma individual) indica que las pistas de aterrizaje de América del Sur están capacitadas para recibir aviones comerciales, aviones de carga, aviones ejecutivos, aviones de combate, de entrenamiento, de agricultura y de rescate y emergencia. Esto debido a que el Asfalto es un material resistente, que soporta altas cargas y velocidades de dichos aviones.\n",
    "Sin embargo, aunque este hecho es positivo, podría ser mejor. Se puede observar que la segunda superficie más utilizada es el concreto, siendo esta la mejor opción entre las superficies expuestas; esto es debido a que el concreto es mucho más resistente y duradero que el asfalto, soporta cargas más pesadas, resiste cambios de clima y requiere menos mantenimiento si se compara con otras superficies; este material a pesar de ser el segundo más usado, se puede observar que no llegan a cincuenta observaciobes en el contienente, y no es de extrañar, ya que el concreto suele ser sumamente costoso. \n",
    "Por otro lado el pero material para las pistas es la tierra, y es que no brinda estabilidad a los aviones y es altamente suceptible a los cambios climáticos, siendo la tercera superficie menos utilizada en el continente.\n",
    "\n"
   ]
  },
  {
   "cell_type": "markdown",
   "id": "34f27f3e-3884-4275-9159-d8bf71b56c10",
   "metadata": {
    "panel-layout": {
     "height": 60.5938,
     "visible": true,
     "width": 100
    }
   },
   "source": [
    "# Longitud de las pistas de aterrizaje "
   ]
  },
  {
   "cell_type": "code",
   "execution_count": null,
   "id": "5bed8642-b387-4618-b586-7bd78c6b0b3e",
   "metadata": {
    "panel-layout": {
     "height": 874,
     "visible": true,
     "width": 100
    }
   },
   "outputs": [],
   "source": [
    "#Grafico de caja para longitud\n",
    "plt.figure(figsize=(10, 6))\n",
    "plt.boxplot(sa_airports['length_ft'], patch_artist=True, boxprops=dict(facecolor='lightblue', color='black'))\n",
    "plt.yticks(range(0, max(sa_airports['length_ft']) + 1000, 1000))\n",
    "plt.ylabel('Longitud (pies)', fontsize=12)\n",
    "plt.title('Distribución de la longitud de las pistas', fontsize=14)\n",
    "plt.grid(True)\n",
    "plt.show()"
   ]
  },
  {
   "cell_type": "markdown",
   "id": "a9f839b7-2bad-4770-85c8-d73af2d16b8c",
   "metadata": {
    "panel-layout": {
     "height": 171.125,
     "visible": true,
     "width": 100
    }
   },
   "source": [
    "En el anterior apartado se mustra un gráfico de caja y bigotes, en este gráfico correspondiente a las longitudes de las pistas de aterrizaje en Sur América, se observa que la mayoría de los aeropuertos tienen longitudes que van desde los 5000 pies hasta los 8000 pies. El 25% de las pistas miden 5000 pies o menos, el 50% miden aproximadamente 7000 pies o menos, el 75% miden 8500 pies o menos y 25% miden 8500 pies o más. \n",
    "Es importante destacar que lo ideal sería poseer pistas de aterrizaje largas; lo óptimo sería una pista de aterrizaje de 8000 pies de largo o más, ya que este largo es adecuado para el aterrizaje de múlltiples tipos de aeronaves. Teniendo en cuenta esto se observa que las pistas de aterrizaje en suramérica están muy limitadas, ya que el mínimo ideal es el máximo observado dentro de la mayoría, es decir, la mayoría de las pistas de aterrizaje van de 5000 a 8000 pies, mientras que lo ideal es que la pista sea de 8000 pies o más, por lo que solo el 25% de las pistas de aterrizaje en América del Sur entra entre los parámetros ideales de longitud."
   ]
  },
  {
   "cell_type": "markdown",
   "id": "eff129de-85e7-4e5e-be0a-b4824b151de1",
   "metadata": {
    "panel-layout": {
     "height": 60.5938,
     "visible": true,
     "width": 100
    }
   },
   "source": [
    "# Ancho de las pistas de aterrizaje"
   ]
  },
  {
   "cell_type": "code",
   "execution_count": null,
   "id": "a0a88902-b498-4db0-805c-630a4ead96af",
   "metadata": {
    "panel-layout": {
     "height": 874,
     "visible": true,
     "width": 100
    }
   },
   "outputs": [],
   "source": [
    "#Grafico de caja para ancho de pista\n",
    "plt.figure(figsize=(10, 6))\n",
    "plt.boxplot(sa_airports['width_ft'], patch_artist=True, boxprops=dict(facecolor='gray', color='black'))\n",
    "plt.yticks(range(0, max(sa_airports['width_ft']) + 10, 10))\n",
    "plt.ylabel('Longitud (pies)', fontsize=12)\n",
    "plt.title('Distribución del ancho de las pistas', fontsize=14)\n",
    "plt.grid(True)\n",
    "plt.show()"
   ]
  },
  {
   "cell_type": "markdown",
   "id": "7d07a65d-8f26-45a2-a408-d5f9e4c3edfa",
   "metadata": {
    "panel-layout": {
     "height": 171.125,
     "visible": true,
     "width": 100
    }
   },
   "source": [
    "En el gráfico de anchos de las pistas se puede observar que la mayoría de los aeropuertos tienen anchos de pista desde los 100 pies aproximadamente, hasta aproximadamente 150 pies. El 25% de las pistas tienen 100 pies de ancho o menos, el 50% tienen aproxiamdamente 130 pies de ancho o menos, el 75% posee anchos de 150 pies o menos y finalmente otro 25% posee anchos de 150 pies o más.\n",
    "Al igual que en el caso de la longitud de la pista, aumentar el ancho de las pistas involucra aumentar la posibilidad de recibir aeronaves más grandes; el ancho general para aeropuertos regionales (cuya función es conectar comunidades locales) es de 100 pies o más, es decir, en este aspecto, la mayoría los aeropuertos del contiente cumplen con la medida ideal."
   ]
  },
  {
   "cell_type": "markdown",
   "id": "266e69dc-843e-4be0-9643-c433b7740b03",
   "metadata": {
    "panel-layout": {
     "height": 60.5938,
     "visible": true,
     "width": 100
    }
   },
   "source": [
    "# Elevación de las pistas de aterrizaje"
   ]
  },
  {
   "cell_type": "code",
   "execution_count": null,
   "id": "5c3c026c-f54d-4597-9d05-7824b17c7042",
   "metadata": {
    "panel-layout": {
     "height": 874,
     "visible": true,
     "width": 100
    }
   },
   "outputs": [],
   "source": [
    "#Grafico de caja para elevacion\n",
    "plt.figure(figsize=(10, 6))\n",
    "plt.boxplot(sa_airports['le_elevation_ft'], patch_artist=True, boxprops=dict(facecolor='purple', color='black'))\n",
    "plt.yticks(range(0, max(sa_airports['le_elevation_ft']) + 1000, 1000))\n",
    "plt.ylabel('Longitud (pies)', fontsize=12)\n",
    "plt.title('Distribución de la elevacion de las pistas', fontsize=14)\n",
    "plt.grid(True)\n",
    "plt.show()"
   ]
  },
  {
   "cell_type": "markdown",
   "id": "18cbaf47-c116-4c76-9be3-5c09692da8d5",
   "metadata": {
    "panel-layout": {
     "height": 136.844,
     "visible": true,
     "width": 100
    }
   },
   "source": [
    "En el gráfico de elevación se observa que la mayoría de los aeropuertos se encuentran entre los 0 y los 2000 pies de elevación sobre el nivel del mar. El 50% de los aeropuertos tienen una elevación de aproximadamente 300 pies de altura o menos y otro 50% 300 pies o más, mientras que solo un 25% de las pistas tienen elevaciones iguales o superiores a los 2000 pies de altura.\n",
    "La elevación de las pistas de aterrizaje tienen gran influencia sobre las aeronaves, pues a mayor altitud el aire se vuelve menos denso, por lo tanto se reducen las capacidades de los vehículos aéreos, por lo tanto, mientras más elevada sea la pista, más longitud necesitan las aeronaves para poder despegar y aterrizar.\n",
    "Como se mencionó anteriormente, la mayoría de las pistas de aterrizaje están en el rango de 0 pies hasta 2000 pies de altura, esto es considerado como una elevación  estándar, donde la densidad del aire es suficientemente cercana a la densidad estándar para que las aeronaves puedan operar sin complicaciones."
   ]
  },
  {
   "cell_type": "markdown",
   "id": "7554018e-bcfc-4278-b685-2c4cb7171c1e",
   "metadata": {
    "panel-layout": {
     "height": 60.5938,
     "visible": true,
     "width": 100
    }
   },
   "source": [
    "# Estadísticas descriptivas del continente"
   ]
  },
  {
   "cell_type": "code",
   "execution_count": null,
   "id": "9b470acf-4d35-4183-860c-4c05930b0311",
   "metadata": {
    "panel-layout": {
     "height": 293,
     "visible": true,
     "width": 100
    }
   },
   "outputs": [],
   "source": [
    "#Estadisticas descriptivas de Latinoamerica\n",
    "sa_airports.describe().round(2)"
   ]
  },
  {
   "cell_type": "markdown",
   "id": "fd7ae304-fba3-4b85-8c71-82721667e88e",
   "metadata": {
    "panel-layout": {
     "height": 119.703,
     "visible": true,
     "width": 100
    }
   },
   "source": [
    "En el contienente se observa un total de 345 pistas de aterrizaje, y el cuadro proporciona descripciones conjuntas de longitud, elevación y ancho, por lo que el análisis de las pistas de aterrizaje de América del Sur puede arrojar los tipos de aviones que pueden aterrizar en esta región.  \n",
    "El 25% o menos de las pistas son consideradas pistas pequeñas, por lo que, según todas las características conjuntas solo podrían aterrizar aviones pequeños y ejecutivos ligeros.\n",
    "En el 50% de las pistas pueden aterrizar aviones regionales, aviones de carga pequeños y ejecutivos medianos.\n",
    "En el 75% de las pistas o menos pueden aterrizar aviones con pasillo único y aviones de carga medianos.\n",
    "Y en las pistas del 25% más grandes elevadas y anchas podrían aterrizar aciones comerciales dobles, de carga pesada y ejecutivos grandes, siempre y cuando estos tengan capacidades para aterrizar en grandes alturas."
   ]
  },
  {
   "cell_type": "markdown",
   "id": "57873fa6-9436-4207-aa9c-201cd954619f",
   "metadata": {
    "panel-layout": {
     "height": 60.5938,
     "visible": true,
     "width": 100
    }
   },
   "source": [
    "# Estadísticas descriptivas por país"
   ]
  },
  {
   "cell_type": "code",
   "execution_count": null,
   "id": "fb909eec-5e2d-4561-8f72-649817d479a8",
   "metadata": {
    "panel-layout": {
     "height": 1560,
     "visible": true,
     "width": 100
    }
   },
   "outputs": [],
   "source": [
    "#Estadisticas descriptivas por pais de latinoamerica\n",
    "sa_airports.groupby('code').agg({\n",
    "    'length_ft': ['count', 'mean', 'min', 'max'],\n",
    "    'width_ft': ['mean', 'min', 'max'],\n",
    "    'le_elevation_ft': ['mean', 'min', 'max']\n",
    "}).round(1).transpose()"
   ]
  },
  {
   "cell_type": "markdown",
   "id": "35738adf-39cf-4e10-85a8-6685ba6b983c",
   "metadata": {
    "panel-layout": {
     "height": 10,
     "visible": true,
     "width": 100
    }
   },
   "source": [
    "El anterior cuadro expresa el promedio, mínimo y máximo de las longitudes, anchos y alturas de las pistas de aterrizaje de las 345 pistas que se encuentran en la Base de Datos de Sur América. Si se observa cada país, según los estándares de la Organización de Aviación Civil Internacional, se puede decir que:\n",
    "En Argentina, en promedio las pistas de aterrizaje tienen una longitud de 7457 pies, un ancho de 128.4 pies y una elevación de 893.3 pies, lo que indica que la mayoría de los aeropuertos en Argentina pueden recibir aviones de pasillo único y aviones ejecutivos grandes. Como mínimo, según la información observada, podría recibir aviones pequeños y como máximo aviones comerciales con pasillo doble.\n",
    "En Bolivia, con um promedio de 8375.4 pies, ancho de 121.7 pies y elevación de 3896.4 pies, podría rebibir aviones comervuales con pasillo único; como mínimo aviones pequeños y como máximo aviones comerciales de doble pasillo (con limitaciones de peso debido a la elevación máxima en las pistas)\n",
    "En Brasil se observa un promedio más pequeño, de 6087.5 pies de largo, 116.3 pies de ancho y  elevación de 1321.9 pies, indicando que en promedio, podría recibir aviones comerciales regionales (más pequeños que los aviones comerciales de pasillos único) y aviones ejecutivos medianos. Como mínimo podría recibir Helicópteros y aviones ultraligeros y como máximo aviones comerciales de doble pasillo.\n",
    "Chile tiene un promedio de 6627.4 pies de longitud en sus pistas de aterrizaje, 125.6 pies de ancho y  elevación de 752.2 pies; en promedio pueden aterrizar aviones comerciales de pasillo único. Como mínimo pueden aterrizar aviones pequeños y como máximo aviones comerciales de pasillo doble.\n",
    "En Colombia se observan aeropuertos con longitudes promedio de 6502.8 pies, ancho de 108.1 pies y elevación de 1796.3 pies, dejando un uso promedio para aviones comerciales regionales. Como mínimo podría tener aviones pequeños y  como máximo aviones comerciales de doble pasillo. \n",
    "Ecuador posee longitudes promedio de 6991.6 pies, ancho de 103.5 pies y elevación de 2991.3 pies, brindando capacidad para aviones comerciales de pasillo único. Como mínimo aviones pequeños y como máximo aviones comerciales de doble pasillo, debido a la elevación máxima se debe considerar el peso del avión comercial con doble pasillo.\n",
    "En Paraguay se observan pistas con promedios de 8095.6 pies de largo, anchod e 128 pies y elevación de 684.4 pies, queriendo decir que en promedio podrían aterrizar aviones de pasillo único. Como mínimo aviones pequeños  y como máximo aviones comerciales con pasillo doble. \n",
    "Perú posee pistas de 8550.8 pies de longitud, 132.5 pies de ancho y elevación de 3457.4 pies, en promedio tiene capacidad para aviones con pasillo único. Como mínimo aviones pequeños y como máximo aviones comerciales de doble pasillo, este último con limitaciones de peso debido a que la elevación máxima de las pistas de Perú son de 12552 pies.\n",
    "Uruguay poseee pistas con promedios de 4838 pies de longitud, ancho de 119.9 pies y elevación de 173.8 pies, brindando espacios para aviones comerciales regionales. En sus pistas más pequeñas aviones pequeños y en sus pistas con características más altas aciones con pasillo único.\n",
    "Finalmente se observa a Venezuela, con un promedio de longitu de 7944 pies, ancho de 140.7 pies y elevación de 567.1 pies, queriendo decir que sus pistas son óptimas para aviones comrciales de pasillo único. En sus pistas más básicas pueden aterrizar aviones pequeños y en sus mejores pistas aviones comerciales con pasillo doble."
   ]
  },
  {
   "cell_type": "markdown",
   "id": "ef13f465-de18-4461-b382-1aee6b3b3ca2",
   "metadata": {
    "panel-layout": {
     "height": 264.984375,
     "visible": true,
     "width": 100
    }
   },
   "source": [
    "# Conclusión \n",
    "Los datos estudiados muestran las características de las pistas de aterrizaje de Sur América, estas características fueron la longitud, elevación y el ancho, medidas en pies; además del tipo de superficie de la pista de aterrizaje.\n",
    "El estudio arroja como resultado que la mayoría de las pistas de aterrizaje de Sur América son aptas para una gran cantidad de aviones, sin embargo, podría mejorar. Tal y como se mencionó cuando se esstudiaban las superficies, el asfalto, aunque es un buen material para elaborar pistas de aterrizaje, no es el mejor; en su lugar, lograr que las pistas de aterrizaje tengan Concreto en su supercufie sería lo más ideal.\n",
    "Las pistas de aterrizaje de suramérica varían significativamente, se pueden encontrar pistas muy pequeñas de 69 pies que solo podrían recibir Helicópteros y aviones sumamente ligeros, hasta pistas muy grandes como en Perú, de 13779 pies que podría recibir aviones de comerciales de pasillo doble.\n",
    "Se informó sobre el impacto de la elevación de la pista en las aeronaves y lo importante que es que la mayoría de pistas de Sur América estén en una elevación adecuada. Además, se descubrió que en promedio los paises suramericanos pueden albergar aviones con pasillo único.\n",
    "En resumen, las pistas de aterrizaje en Sur América presentan una alta variabilidad en tamaños y superficies, dejando al descubierto las condiciones sociales, económicas y geográficas del continente, y a pesar de que permite una amplia gamma de operaciones aéreas, existen varias limitaciones a la hora de enviar diversos tipos de aviones, como por ejemplo los aviones comerciales de doble pasillo ya que requieren pistas más largas y anchas, aviones de carga pesada, ya que requieren pistas largas y más resistentes, aviones militares de gran tamaño y otros."
   ]
  }
 ],
 "metadata": {
  "kernelspec": {
   "display_name": "Python 3 (ipykernel)",
   "language": "python",
   "name": "python3"
  },
  "language_info": {
   "codemirror_mode": {
    "name": "ipython",
    "version": 3
   },
   "file_extension": ".py",
   "mimetype": "text/x-python",
   "name": "python",
   "nbconvert_exporter": "python",
   "pygments_lexer": "ipython3",
   "version": "3.12.7"
  },
  "panel-cell-order": [
   "56b83ece-2aee-457e-b49c-a645178a7eff",
   "eb6119ff-dd34-4f11-b820-739db173be6b",
   "e0b64978-e84e-46b5-ada9-f76b96069dc3",
   "5bed8642-b387-4618-b586-7bd78c6b0b3e",
   "a0a88902-b498-4db0-805c-630a4ead96af",
   "5c3c026c-f54d-4597-9d05-7824b17c7042",
   "9b470acf-4d35-4183-860c-4c05930b0311",
   "fb909eec-5e2d-4561-8f72-649817d479a8",
   "b52903de-762c-46bf-a1df-0aca5e0bd567",
   "34f27f3e-3884-4275-9159-d8bf71b56c10",
   "a9f839b7-2bad-4770-85c8-d73af2d16b8c",
   "eff129de-85e7-4e5e-be0a-b4824b151de1",
   "7d07a65d-8f26-45a2-a408-d5f9e4c3edfa",
   "266e69dc-843e-4be0-9643-c433b7740b03",
   "18cbaf47-c116-4c76-9be3-5c09692da8d5",
   "7554018e-bcfc-4278-b685-2c4cb7171c1e",
   "fd7ae304-fba3-4b85-8c71-82721667e88e",
   "57873fa6-9436-4207-aa9c-201cd954619f",
   "35738adf-39cf-4e10-85a8-6685ba6b983c",
   "ef13f465-de18-4461-b382-1aee6b3b3ca2"
  ]
 },
 "nbformat": 4,
 "nbformat_minor": 5
}
