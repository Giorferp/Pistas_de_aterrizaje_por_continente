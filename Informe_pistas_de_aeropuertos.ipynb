{
 "cells": [
  {
   "cell_type": "code",
   "execution_count": 3,
   "id": "f1cd126d-eb84-47f3-8be3-b2ac30d93735",
   "metadata": {},
   "outputs": [],
   "source": [
    "# Importar paquetes\n",
    "\n",
    "import seaborn as sns\n",
    "import pandas as pd\n",
    "import matplotlib.pyplot as plt\n",
    "from sqlalchemy import create_engine\n",
    "import plotly.express as px\n",
    "engine = create_engine('sqlite:///C:\\\\Users\\\\Giovanni\\\\OneDrive\\\\Documents\\\\GitHub\\\\Pistas_de_aterrizaje_por_continente\\\\OurAirports_DataSource.sqlite')\n",
    "\n",
    "query = \"SELECT * FROM SA_Airports;\"\n",
    "sa_airports = pd.read_sql_query(query, engine)\n",
    "sa_airports.to_csv('SA_Airports.csv', index=False)\n",
    "#Transfotmacion de variables\n",
    "sa_airports['code'] = pd.Categorical(sa_airports['code'])\n",
    "sa_airports['ident'] = pd.Categorical(sa_airports['ident'])\n",
    "sa_airports['name'] = pd.Categorical(sa_airports['name'])\n",
    "sa_airports['type'] = pd.Categorical(sa_airports['type'])\n",
    "sa_airports['surface'] = pd.Categorical(sa_airports['surface'])"
   ]
  },
  {
   "cell_type": "markdown",
   "id": "56b83ece-2aee-457e-b49c-a645178a7eff",
   "metadata": {
    "panel-layout": {
     "height": 347.266,
     "visible": true,
     "width": 100
    }
   },
   "source": [
    "# Análisis sobre pistas de Aterrizaje en Latinoamérica\n",
    "Por: Giovanni Fermin, Geremi Cardenas, Alejandro Zerpa, David Bermudez y Diego\n",
    "\n",
    "# Metodología\n",
    "Este informe se realiza con la data de \"OurAirports_DataSource\" extraída de Kaggle con la finalidad de analizar las pistas de aterrizaje contenidas en dicha base de datos, específicamente las pistas de aterrizaje de Sur América. Para ello se realizó una inspección previa de la base de datos en SQLite como Sistema Gestor de Bases de Datos. Luego de la inspección se realizó la creación de una nueva entidad llamada \"SA_Airports\", en dicha tabla se ven reflejadas las caracteríisticas que serían de utilidad para lograr los objetivos de la investigación, SA_Airports contiene: code, ident, name, lenght_ft, width_ft, surface y le_elevation_ft; lo cual indica el código del país, la identificación de los aeropuertos, el nombre, el tamaño, la longitud media en pies, el ancho medido en pies, el tipo de superficie y la elevación medida en pies, respectivamente.\n",
    "Posterior a la creación de SA_Airports, se realiza una tranformación de la entidad a un archivo CSV para un mejor manejo de los datos a la hora de realizar las estadísticas descriptivas y los gráficos correspondientes en entornos como VisualCode, Anaconda, Rstudio y otros.\n",
    "Para lograr la creación de las tablas y gráficos se utilizaron herramientas como: seaborn, pandas, matplotlib, sqlalchemy, plotly express y más.\n",
    "\n",
    "# Introducción \n",
    "SA_Airports es una entidad destinada al análisis de pistas de aterrizaje de América del Sur. Sobre dicha entidad se han realizado diferentes gráficos y tablas para describir estas pistas y conocer las posibilidades de aterrizaje de los diferentes tipos de aviones en Sur América en general y en sus diversos países. Este análisis se fundamente en variables como la longitud, ancho y elevación de las pistas de aterrizaje, estas variables son medidas en pies; también está la variable de superficie, la cual es de suma importancia a la hora de determinar el tipo de aeronaves que podrían hacer uso de la pista. "
   ]
  },
  {
   "cell_type": "markdown",
   "id": "b52903de-762c-46bf-a1df-0aca5e0bd567",
   "metadata": {
    "panel-layout": {
     "height": 60.5938,
     "visible": true,
     "width": 100
    }
   },
   "source": [
    "# Análisis de las superficies en pistas de aterrizaje"
   ]
  },
  {
   "cell_type": "code",
   "execution_count": null,
   "id": "eb6119ff-dd34-4f11-b820-739db173be6b",
   "metadata": {
    "panel-layout": {
     "height": 874,
     "visible": true,
     "width": 100
    }
   },
   "outputs": [],
   "source": [
    "#Grafico de barras para superficies\n",
    "sa_airports['surface'] = pd.Categorical(sa_airports['surface'])\n",
    "plt.figure(figsize=(10, 6))\n",
    "superficies = sa_airports['surface'].value_counts()\n",
    "plt.bar(superficies.index, superficies.values, color='green')\n",
    "plt.yticks(range(0, max(superficies.values) + 20, 20))\n",
    "plt.xlabel('Superficie', fontsize=12)\n",
    "plt.ylabel('Cantidad de aeropuertos', fontsize=12)\n",
    "plt.title('Aeropuertos por tipo de superficie')\n",
    "plt.show()"
   ]
  },
  {
   "cell_type": "markdown",
   "id": "e0b64978-e84e-46b5-ada9-f76b96069dc3",
   "metadata": {
    "panel-layout": {
     "height": 205.406,
     "visible": true,
     "width": 100
    }
   },
   "source": [
    "El anterior gráfico de barras indica los tipos de superficies que se pueden observar en Sur América, estas superficies son: ASPH, CON, GRS, GRE, EARTH, GVL y PEM; los cuales son abreviaciones (en su mayoría) de Asfalto, Concreto, Hierva, Tierra, Grava y Pavimento poroso respectivamente.\n",
    "Lo que se observa en este gráfico es que la mayoría de los areopuertos en Sur América están hechos de Asfalto, seguido de Concreto que a su vez está seguido por Hierva.\n",
    "El hecho de que la mayoría de aeropuertos estén hechos de asfalto es un buen indicador, ya que esta característica (explorada de forma individual) indica que las pistas de aterrizaje de América del Sur están capacitadas para recibir aviones comerciales, aviones de carga, aviones ejecutivos, aviones de combate, de entrenamiento, de agricultura y de rescate y emergencia. Esto debido a que el Asfalto es un material resistente, que soporta altas cargas y velocidades de dichos aviones.\n",
    "Sin embargo, aunque este hecho es positivo, podría ser mejor. Se puede observar que la segunda superficie más utilizada es el concreto, siendo esta la mejor opción entre las superficies expuestas; esto es debido a que el concreto es mucho más resistente y duradero que el asfalto, soporta cargas más pesadas, resiste cambios de clima y requiere menos mantenimiento si se compara con otras superficies; este material a pesar de ser el segundo más usado, se puede observar que no llegan a cincuenta observaciobes en el contienente, y no es de extrañar, ya que el concreto suele ser sumamente costoso. \n",
    "Por otro lado el pero material para las pistas es la tierra, y es que no brinda estabilidad a los aviones y es altamente suceptible a los cambios climáticos, siendo la tercera superficie menos utilizada en el continente.\n",
    "\n"
   ]
  },
  {
   "cell_type": "markdown",
   "id": "34f27f3e-3884-4275-9159-d8bf71b56c10",
   "metadata": {
    "panel-layout": {
     "height": 60.5938,
     "visible": true,
     "width": 100
    }
   },
   "source": [
    "# Longitud de las pistas de aterrizaje "
   ]
  },
  {
   "cell_type": "code",
   "execution_count": null,
   "id": "5bed8642-b387-4618-b586-7bd78c6b0b3e",
   "metadata": {
    "panel-layout": {
     "height": 874,
     "visible": true,
     "width": 100
    }
   },
   "outputs": [],
   "source": [
    "#Grafico de caja para longitud\n",
    "plt.figure(figsize=(10, 6))\n",
    "plt.boxplot(sa_airports['length_ft'], patch_artist=True, boxprops=dict(facecolor='lightblue', color='black'))\n",
    "plt.yticks(range(0, max(sa_airports['length_ft']) + 1000, 1000))\n",
    "plt.ylabel('Longitud (pies)', fontsize=12)\n",
    "plt.title('Distribución de la longitud de las pistas', fontsize=14)\n",
    "plt.grid(True)\n",
    "plt.show()"
   ]
  },
  {
   "cell_type": "markdown",
   "id": "a9f839b7-2bad-4770-85c8-d73af2d16b8c",
   "metadata": {
    "panel-layout": {
     "height": 171.125,
     "visible": true,
     "width": 100
    }
   },
   "source": [
    "En el anterior apartado se mustra un gráfico de caja y bigotes, en este gráfico correspondiente a las longitudes de las pistas de aterrizaje en Sur América, se observa que la mayoría de los aeropuertos tienen longitudes que van desde los 5000 pies hasta los 8000 pies. El 25% de las pistas miden 5000 pies o menos, el 50% miden aproximadamente 7000 pies o menos, el 75% miden 8500 pies o menos y 25% miden 8500 pies o más. \n",
    "Esto indica que con longitudes iguales o menores a 5000 pies pueden aterrizar aciones pequeños, ejecutivos ligeros y helicópteros.\n",
    "Con más de 5000 y menos de 8500 pies pueden comenzar a aterrizar aviones comerciales con pasillo único, aviones ejecutivos grandes, aviones de carga medianos y aviones militares de transporte.\n",
    "De 8500 a 14000 pies las piestas pueden comenzar a recibir aviones comerciales de doble pasillo, de carga pesada, ejecutivos más grandes y aviones militares de gran tamaño.\n",
    "Sin embargo, la mayoría de las pistas en América del Sur poseen longitudes entre los 5000 pies y los 8000 pies, indicando que, en su mayoría, los aviones que podrían aterrizar en los aeropuertos suramericanos serían aviones comerciales de pasillo único, ejecutivos medianos, de carga ligera y aviones militares de transporte ligero. \n",
    "En el 75% "
   ]
  },
  {
   "cell_type": "markdown",
   "id": "eff129de-85e7-4e5e-be0a-b4824b151de1",
   "metadata": {
    "panel-layout": {
     "height": 60.5938,
     "visible": true,
     "width": 100
    }
   },
   "source": [
    "# Ancho de las pistas de aterrizaje"
   ]
  },
  {
   "cell_type": "code",
   "execution_count": null,
   "id": "a0a88902-b498-4db0-805c-630a4ead96af",
   "metadata": {
    "panel-layout": {
     "height": 874,
     "visible": true,
     "width": 100
    }
   },
   "outputs": [],
   "source": [
    "#Grafico de caja para ancho de pista\n",
    "plt.figure(figsize=(10, 6))\n",
    "plt.boxplot(sa_airports['width_ft'], patch_artist=True, boxprops=dict(facecolor='gray', color='black'))\n",
    "plt.yticks(range(0, max(sa_airports['width_ft']) + 10, 10))\n",
    "plt.ylabel('Longitud (pies)', fontsize=12)\n",
    "plt.title('Distribución del ancho de las pistas', fontsize=14)\n",
    "plt.grid(True)\n",
    "plt.show()"
   ]
  },
  {
   "cell_type": "markdown",
   "id": "7d07a65d-8f26-45a2-a408-d5f9e4c3edfa",
   "metadata": {
    "panel-layout": {
     "height": 171.125,
     "visible": true,
     "width": 100
    }
   },
   "source": [
    "En el gráfico se observa que las pistas tienen anchos que van desde los 30 pies hasta los 200 pies aproximadamente, y que en su mayoría, las pistas tienen anchos de 100 a 150 pies, con el 50% de las pistas con anchos de 130 pies o menos y el otro 50% con 130 pies o más.\n",
    "Entre las pistas más angostas se observan las iguales o menores a 100 pies, dejando a su dispisición aviones pequeños, regionales y helicópteros. \n",
    "Con 130 pies se pueden recibir aviones comerciales regionales ejecutivos medianos y militares ligeros.\n",
    "Con 150 pies o menos se pueden recibir los aviones comerciales con pasillos únicos, ejecutivos grandes, aviones de carga medianos.\n",
    "De 150 a 200 pies pueden aterrizar aviones con pasillos dobles, aviones de carga pesada, ejecutivos grandes y aviones militares de gran tamaño.\n",
    "Como se observa, en su mayoría, las piestas de aterrizaje cuentan con anchos de entre 100 a 150 pies, lo que inndica que en Sur América podrían ingresar aviones con pasillos únicos, ejecutivos medianos y aviones de carga ligera."
   ]
  },
  {
   "cell_type": "markdown",
   "id": "266e69dc-843e-4be0-9643-c433b7740b03",
   "metadata": {
    "panel-layout": {
     "height": 60.5938,
     "visible": true,
     "width": 100
    }
   },
   "source": [
    "# Elevación de las pistas de aterrizaje"
   ]
  },
  {
   "cell_type": "code",
   "execution_count": null,
   "id": "5c3c026c-f54d-4597-9d05-7824b17c7042",
   "metadata": {
    "panel-layout": {
     "height": 874,
     "visible": true,
     "width": 100
    }
   },
   "outputs": [],
   "source": [
    "#Grafico de caja para elevacion\n",
    "plt.figure(figsize=(10, 6))\n",
    "plt.boxplot(sa_airports['le_elevation_ft'], patch_artist=True, boxprops=dict(facecolor='purple', color='black'))\n",
    "plt.yticks(range(0, max(sa_airports['le_elevation_ft']) + 1000, 1000))\n",
    "plt.ylabel('Longitud (pies)', fontsize=12)\n",
    "plt.title('Distribución de la elevacion de las pistas', fontsize=14)\n",
    "plt.grid(True)\n",
    "plt.show()"
   ]
  },
  {
   "cell_type": "markdown",
   "id": "18cbaf47-c116-4c76-9be3-5c09692da8d5",
   "metadata": {
    "panel-layout": {
     "height": 136.844,
     "visible": true,
     "width": 100
    }
   },
   "source": [
    "En cuanto a lo que se puede observar de elevación, se puede observar que existen muchos datos atípicos y que excluyendo estos datos, se puede decir que la elevación de las pistas van desde los 0 hasta los 5000 pies sobre el nivel del mar. \n",
    "Según el gráfico, el 50% de las pistas están aproximadamente a menos de 500 pies sobre el nivel del mar, y el otro 50% a más de 500 pies sobre el nivel del mar.\n",
    "Casi todos los aviones comerciales y ejecutivos pueden aterrizar con elevaciones de 500 pies sobre el nivel del mar, mismo caso sucede con las elevaciones de 500 a 2000 pies. Sin embargo las cosas cambian cuando las pistas están ubicadas a más de los 2000 pies, en donde se observan varios datos atípicos, y es que en estas pistas podrían aterrizar aviones comerciales, ejecutivos y de carga si y solo si son de alto rendimiento; además, entre más altura, los aviones requieren pistas mas largas."
   ]
  },
  {
   "cell_type": "markdown",
   "id": "7554018e-bcfc-4278-b685-2c4cb7171c1e",
   "metadata": {
    "panel-layout": {
     "height": 60.5938,
     "visible": true,
     "width": 100
    }
   },
   "source": [
    "# Estadísticas descriptivas del continente"
   ]
  },
  {
   "cell_type": "code",
   "execution_count": null,
   "id": "9b470acf-4d35-4183-860c-4c05930b0311",
   "metadata": {
    "panel-layout": {
     "height": 293,
     "visible": true,
     "width": 100
    }
   },
   "outputs": [],
   "source": [
    "#Estadisticas descriptivas de Latinoamerica\n",
    "sa_airports.describe().round(2)"
   ]
  },
  {
   "cell_type": "markdown",
   "id": "fd7ae304-fba3-4b85-8c71-82721667e88e",
   "metadata": {
    "panel-layout": {
     "height": 119.703,
     "visible": true,
     "width": 100
    }
   },
   "source": [
    "En el contienente se observa un total de 345 pistas de aterrizaje, y el cuadro proporciona descripciones conjuntas de longitud, elevación y ancho. \n",
    "El 25% o menos de las pistas son consideradas pistas pequeñas, por lo que, segun todas las características conjuntas solo podrían aterrizar aviones pequeños y ejecutivos ligeros.\n",
    "En el 50% de las pistas pueden aterrizar aviones regionales, aviones de carga pequeños y ejecutivos medianos.\n",
    "El siguiente 75% o menos pueden aterrizar aviones con pasillo único y aviones de carga medianos.\n",
    "Y en las pistas del 25% más grandes elevadas y anchas podrían aterrizar aciones comerciales dobles, de carga pesada y ejecutivos grandes."
   ]
  },
  {
   "cell_type": "markdown",
   "id": "57873fa6-9436-4207-aa9c-201cd954619f",
   "metadata": {
    "panel-layout": {
     "height": 60.5938,
     "visible": true,
     "width": 100
    }
   },
   "source": [
    "# Estadísticas descriptivas por país"
   ]
  },
  {
   "cell_type": "code",
   "execution_count": null,
   "id": "fb909eec-5e2d-4561-8f72-649817d479a8",
   "metadata": {
    "panel-layout": {
     "height": 1560,
     "visible": true,
     "width": 100
    }
   },
   "outputs": [],
   "source": [
    "#Estadisticas descriptivas por pais de latinoamerica\n",
    "sa_airports.groupby('code').agg({\n",
    "    'length_ft': ['count', 'mean', 'min', 'max'],\n",
    "    'width_ft': ['mean', 'min', 'max'],\n",
    "    'le_elevation_ft': ['mean', 'min', 'max']\n",
    "}).round(1).transpose()"
   ]
  },
  {
   "cell_type": "markdown",
   "id": "35738adf-39cf-4e10-85a8-6685ba6b983c",
   "metadata": {
    "panel-layout": {
     "height": 10,
     "visible": true,
     "width": 100
    }
   },
   "source": []
  }
 ],
 "metadata": {
  "kernelspec": {
   "display_name": "Python 3 (ipykernel)",
   "language": "python",
   "name": "python3"
  },
  "language_info": {
   "codemirror_mode": {
    "name": "ipython",
    "version": 3
   },
   "file_extension": ".py",
   "mimetype": "text/x-python",
   "name": "python",
   "nbconvert_exporter": "python",
   "pygments_lexer": "ipython3",
   "version": "3.12.7"
  },
  "panel-cell-order": [
   "56b83ece-2aee-457e-b49c-a645178a7eff",
   "eb6119ff-dd34-4f11-b820-739db173be6b",
   "e0b64978-e84e-46b5-ada9-f76b96069dc3",
   "5bed8642-b387-4618-b586-7bd78c6b0b3e",
   "a0a88902-b498-4db0-805c-630a4ead96af",
   "5c3c026c-f54d-4597-9d05-7824b17c7042",
   "9b470acf-4d35-4183-860c-4c05930b0311",
   "fb909eec-5e2d-4561-8f72-649817d479a8",
   "b52903de-762c-46bf-a1df-0aca5e0bd567",
   "34f27f3e-3884-4275-9159-d8bf71b56c10",
   "a9f839b7-2bad-4770-85c8-d73af2d16b8c",
   "eff129de-85e7-4e5e-be0a-b4824b151de1",
   "7d07a65d-8f26-45a2-a408-d5f9e4c3edfa",
   "266e69dc-843e-4be0-9643-c433b7740b03",
   "18cbaf47-c116-4c76-9be3-5c09692da8d5",
   "7554018e-bcfc-4278-b685-2c4cb7171c1e",
   "fd7ae304-fba3-4b85-8c71-82721667e88e",
   "57873fa6-9436-4207-aa9c-201cd954619f",
   "35738adf-39cf-4e10-85a8-6685ba6b983c"
  ]
 },
 "nbformat": 4,
 "nbformat_minor": 5
}
